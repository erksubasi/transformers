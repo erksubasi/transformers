{
  "nbformat": 4,
  "nbformat_minor": 0,
  "metadata": {
    "colab": {
      "provenance": [],
      "authorship_tag": "ABX9TyMGvAh0KLoTrJ7Ru8/Vaes3",
      "include_colab_link": true
    },
    "kernelspec": {
      "name": "python3",
      "display_name": "Python 3"
    },
    "language_info": {
      "name": "python"
    }
  },
  "cells": [
    {
      "cell_type": "markdown",
      "metadata": {
        "id": "view-in-github",
        "colab_type": "text"
      },
      "source": [
        "<a href=\"https://colab.research.google.com/github/erksubasi/transformers/blob/main/FunctimeTest.ipynb\" target=\"_parent\"><img src=\"https://colab.research.google.com/assets/colab-badge.svg\" alt=\"Open In Colab\"/></a>"
      ]
    },
    {
      "cell_type": "code",
      "source": [
        "!pip install functime"
      ],
      "metadata": {
        "colab": {
          "base_uri": "https://localhost:8080/"
        },
        "id": "6ofkwYZRC6EV",
        "outputId": "03d05afa-c8e8-41ab-9880-43d8129d20db"
      },
      "execution_count": 3,
      "outputs": [
        {
          "output_type": "stream",
          "name": "stdout",
          "text": [
            "Requirement already satisfied: functime in /usr/local/lib/python3.10/dist-packages (0.3.0)\n",
            "Requirement already satisfied: catboost in /usr/local/lib/python3.10/dist-packages (from functime) (1.2)\n",
            "Requirement already satisfied: dask in /usr/local/lib/python3.10/dist-packages (from functime) (2022.12.1)\n",
            "Requirement already satisfied: flaml[automl]==1.2.4 in /usr/local/lib/python3.10/dist-packages (from functime) (1.2.4)\n",
            "Requirement already satisfied: holidays in /usr/local/lib/python3.10/dist-packages (from functime) (0.29)\n",
            "Requirement already satisfied: joblib in /usr/local/lib/python3.10/dist-packages (from functime) (1.3.1)\n",
            "Requirement already satisfied: kaleido==0.2.1 in /usr/local/lib/python3.10/dist-packages (from functime) (0.2.1)\n",
            "Requirement already satisfied: lightgbm in /usr/local/lib/python3.10/dist-packages (from functime) (3.3.5)\n",
            "Requirement already satisfied: numpy in /usr/local/lib/python3.10/dist-packages (from functime) (1.22.4)\n",
            "Requirement already satisfied: pandas in /usr/local/lib/python3.10/dist-packages (from functime) (1.5.3)\n",
            "Requirement already satisfied: plotly in /usr/local/lib/python3.10/dist-packages (from functime) (5.13.1)\n",
            "Requirement already satisfied: polars==0.18.7 in /usr/local/lib/python3.10/dist-packages (from functime) (0.18.7)\n",
            "Requirement already satisfied: pyarrow in /usr/local/lib/python3.10/dist-packages (from functime) (12.0.1)\n",
            "Requirement already satisfied: pylance in /usr/local/lib/python3.10/dist-packages (from functime) (0.5.9)\n",
            "Requirement already satisfied: pynndescent==0.5.8 in /usr/local/lib/python3.10/dist-packages (from functime) (0.5.8)\n",
            "Requirement already satisfied: rich>=12.0.0 in /usr/local/lib/python3.10/dist-packages (from functime) (13.4.2)\n",
            "Requirement already satisfied: scikit-learn==1.2.2 in /usr/local/lib/python3.10/dist-packages (from functime) (1.2.2)\n",
            "Requirement already satisfied: scipy in /usr/local/lib/python3.10/dist-packages (from functime) (1.10.1)\n",
            "Requirement already satisfied: tqdm in /usr/local/lib/python3.10/dist-packages (from functime) (4.65.0)\n",
            "Requirement already satisfied: typing-extensions in /usr/local/lib/python3.10/dist-packages (from functime) (4.7.1)\n",
            "Requirement already satisfied: xgboost in /usr/local/lib/python3.10/dist-packages (from functime) (1.7.6)\n",
            "Requirement already satisfied: zarr in /usr/local/lib/python3.10/dist-packages (from functime) (2.16.0)\n",
            "\u001b[33mWARNING: flaml 1.2.4 does not provide the extra 'automl'\u001b[0m\u001b[33m\n",
            "\u001b[0mRequirement already satisfied: numba>=0.51.2 in /usr/local/lib/python3.10/dist-packages (from pynndescent==0.5.8->functime) (0.56.4)\n",
            "Requirement already satisfied: llvmlite>=0.30 in /usr/local/lib/python3.10/dist-packages (from pynndescent==0.5.8->functime) (0.39.1)\n",
            "Requirement already satisfied: threadpoolctl>=2.0.0 in /usr/local/lib/python3.10/dist-packages (from scikit-learn==1.2.2->functime) (3.2.0)\n",
            "Requirement already satisfied: wheel in /usr/local/lib/python3.10/dist-packages (from lightgbm->functime) (0.40.0)\n",
            "Requirement already satisfied: python-dateutil>=2.8.1 in /usr/local/lib/python3.10/dist-packages (from pandas->functime) (2.8.2)\n",
            "Requirement already satisfied: pytz>=2020.1 in /usr/local/lib/python3.10/dist-packages (from pandas->functime) (2022.7.1)\n",
            "Requirement already satisfied: markdown-it-py>=2.2.0 in /usr/local/lib/python3.10/dist-packages (from rich>=12.0.0->functime) (3.0.0)\n",
            "Requirement already satisfied: pygments<3.0.0,>=2.13.0 in /usr/local/lib/python3.10/dist-packages (from rich>=12.0.0->functime) (2.14.0)\n",
            "Requirement already satisfied: graphviz in /usr/local/lib/python3.10/dist-packages (from catboost->functime) (0.20.1)\n",
            "Requirement already satisfied: matplotlib in /usr/local/lib/python3.10/dist-packages (from catboost->functime) (3.7.1)\n",
            "Requirement already satisfied: six in /usr/local/lib/python3.10/dist-packages (from catboost->functime) (1.16.0)\n",
            "Requirement already satisfied: click>=7.0 in /usr/local/lib/python3.10/dist-packages (from dask->functime) (8.1.6)\n",
            "Requirement already satisfied: cloudpickle>=1.1.1 in /usr/local/lib/python3.10/dist-packages (from dask->functime) (2.2.1)\n",
            "Requirement already satisfied: fsspec>=0.6.0 in /usr/local/lib/python3.10/dist-packages (from dask->functime) (2023.6.0)\n",
            "Requirement already satisfied: packaging>=20.0 in /usr/local/lib/python3.10/dist-packages (from dask->functime) (23.1)\n",
            "Requirement already satisfied: partd>=0.3.10 in /usr/local/lib/python3.10/dist-packages (from dask->functime) (1.4.0)\n",
            "Requirement already satisfied: pyyaml>=5.3.1 in /usr/local/lib/python3.10/dist-packages (from dask->functime) (6.0.1)\n",
            "Requirement already satisfied: toolz>=0.8.2 in /usr/local/lib/python3.10/dist-packages (from dask->functime) (0.12.0)\n",
            "Requirement already satisfied: tenacity>=6.2.0 in /usr/local/lib/python3.10/dist-packages (from plotly->functime) (8.2.2)\n",
            "Requirement already satisfied: asciitree in /usr/local/lib/python3.10/dist-packages (from zarr->functime) (0.3.3)\n",
            "Requirement already satisfied: fasteners in /usr/local/lib/python3.10/dist-packages (from zarr->functime) (0.18)\n",
            "Requirement already satisfied: numcodecs>=0.10.0 in /usr/local/lib/python3.10/dist-packages (from zarr->functime) (0.11.0)\n",
            "Requirement already satisfied: mdurl~=0.1 in /usr/local/lib/python3.10/dist-packages (from markdown-it-py>=2.2.0->rich>=12.0.0->functime) (0.1.2)\n",
            "Requirement already satisfied: setuptools in /usr/local/lib/python3.10/dist-packages (from numba>=0.51.2->pynndescent==0.5.8->functime) (67.7.2)\n",
            "Requirement already satisfied: entrypoints in /usr/local/lib/python3.10/dist-packages (from numcodecs>=0.10.0->zarr->functime) (0.4)\n",
            "Requirement already satisfied: locket in /usr/local/lib/python3.10/dist-packages (from partd>=0.3.10->dask->functime) (1.0.0)\n",
            "Requirement already satisfied: contourpy>=1.0.1 in /usr/local/lib/python3.10/dist-packages (from matplotlib->catboost->functime) (1.1.0)\n",
            "Requirement already satisfied: cycler>=0.10 in /usr/local/lib/python3.10/dist-packages (from matplotlib->catboost->functime) (0.11.0)\n",
            "Requirement already satisfied: fonttools>=4.22.0 in /usr/local/lib/python3.10/dist-packages (from matplotlib->catboost->functime) (4.41.0)\n",
            "Requirement already satisfied: kiwisolver>=1.0.1 in /usr/local/lib/python3.10/dist-packages (from matplotlib->catboost->functime) (1.4.4)\n",
            "Requirement already satisfied: pillow>=6.2.0 in /usr/local/lib/python3.10/dist-packages (from matplotlib->catboost->functime) (8.4.0)\n",
            "Requirement already satisfied: pyparsing>=2.3.1 in /usr/local/lib/python3.10/dist-packages (from matplotlib->catboost->functime) (3.1.0)\n"
          ]
        }
      ]
    },
    {
      "cell_type": "code",
      "execution_count": 4,
      "metadata": {
        "colab": {
          "base_uri": "https://localhost:8080/"
        },
        "id": "KhsHrTApC2rk",
        "outputId": "51316f25-99bf-4afc-ff35-90d175793b84"
      },
      "outputs": [
        {
          "output_type": "stream",
          "name": "stderr",
          "text": [
            "/usr/local/lib/python3.10/dist-packages/lightgbm/basic.py:2065: UserWarning: Using categorical_feature in Dataset.\n",
            "  _log_warning('Using categorical_feature in Dataset.')\n",
            "Fitting direct forecasters:: 100%|██████████| 3/3 [00:02<00:00,  1.45it/s]\n"
          ]
        }
      ],
      "source": [
        "import polars as pl\n",
        "from functime.cross_validation import train_test_split\n",
        "from functime.forecasting import lightgbm\n",
        "from functime.metrics import mase\n",
        "\n",
        "# Load example data\n",
        "y = pl.read_parquet(\"https://github.com/descendant-ai/functime/raw/main/data/commodities.parquet\")\n",
        "entity_col, time_col = y.columns[:2]\n",
        "\n",
        "# Time series split\n",
        "y_train, y_test = y.pipe(train_test_split(test_size=3))\n",
        "\n",
        "# Fit-predict\n",
        "model = lightgbm(freq=\"1mo\", lags=24, max_horizons=3, strategy=\"ensemble\")\n",
        "model.fit(y=y_train)\n",
        "y_pred = model.predict(fh=3)\n",
        "\n",
        "# functime ❤️ functional design\n",
        "# fit-predict in a single line\n",
        "y_pred = lightgbm(freq=\"1mo\", lags=24)(y=y_train, fh=3)\n",
        "\n",
        "# Score forecasts in parallel\n",
        "scores = mase(y_true=y_test, y_pred=y_pred, y_train=y_train)"
      ]
    },
    {
      "cell_type": "code",
      "source": [
        "scores"
      ],
      "metadata": {
        "colab": {
          "base_uri": "https://localhost:8080/",
          "height": 882
        },
        "id": "t-7a3s_rDP2w",
        "outputId": "88e3f3e0-9ba4-41a1-ad16-3e433fe71546"
      },
      "execution_count": 5,
      "outputs": [
        {
          "output_type": "execute_result",
          "data": {
            "text/plain": [
              "shape: (71, 2)\n",
              "┌────────────────────┬────────────┐\n",
              "│ commodity_type     ┆ mase       │\n",
              "│ ---                ┆ ---        │\n",
              "│ str                ┆ f64        │\n",
              "╞════════════════════╪════════════╡\n",
              "│ Rice, Thai 25%     ┆ 3.032552   │\n",
              "│ Sugar, EU          ┆ 174.755501 │\n",
              "│ Groundnuts         ┆ 3.603058   │\n",
              "│ Coffee, Arabica    ┆ 7.963714   │\n",
              "│ …                  ┆ …          │\n",
              "│ Natural gas, US    ┆ 5.475335   │\n",
              "│ Chicken            ┆ 37.085596  │\n",
              "│ Iron ore, cfr spot ┆ 15.374231  │\n",
              "│ Sorghum            ┆ 4.430623   │\n",
              "└────────────────────┴────────────┘"
            ],
            "text/html": [
              "<div><style>\n",
              ".dataframe > thead > tr > th,\n",
              ".dataframe > tbody > tr > td {\n",
              "  text-align: right;\n",
              "}\n",
              "</style>\n",
              "<small>shape: (71, 2)</small><table border=\"1\" class=\"dataframe\"><thead><tr><th>commodity_type</th><th>mase</th></tr><tr><td>str</td><td>f64</td></tr></thead><tbody><tr><td>&quot;Rice, Thai 25%…</td><td>3.032552</td></tr><tr><td>&quot;Sugar, EU&quot;</td><td>174.755501</td></tr><tr><td>&quot;Groundnuts&quot;</td><td>3.603058</td></tr><tr><td>&quot;Coffee, Arabic…</td><td>7.963714</td></tr><tr><td>&quot;Crude oil, WTI…</td><td>8.224842</td></tr><tr><td>&quot;Sugar, US&quot;</td><td>76.090066</td></tr><tr><td>&quot;Coconut oil&quot;</td><td>8.248196</td></tr><tr><td>&quot;Rice, Thai 5% …</td><td>3.581516</td></tr><tr><td>&quot;Cocoa&quot;</td><td>0.790271</td></tr><tr><td>&quot;Aluminum&quot;</td><td>5.91486</td></tr><tr><td>&quot;Coal, South Af…</td><td>20.163162</td></tr><tr><td>&quot;Sawnwood, Came…</td><td>4.865443</td></tr><tr><td>&hellip;</td><td>&hellip;</td></tr><tr><td>&quot;Barley&quot;</td><td>13.726136</td></tr><tr><td>&quot;TSP&quot;</td><td>22.588032</td></tr><tr><td>&quot;Wheat, US HRW&quot;</td><td>14.024022</td></tr><tr><td>&quot;Natural gas, E…</td><td>30.506658</td></tr><tr><td>&quot;Crude oil, Bre…</td><td>13.279634</td></tr><tr><td>&quot;Wheat, US SRW&quot;</td><td>11.672873</td></tr><tr><td>&quot;Soybean meal&quot;</td><td>4.948381</td></tr><tr><td>&quot;DAP&quot;</td><td>14.276748</td></tr><tr><td>&quot;Natural gas, U…</td><td>5.475335</td></tr><tr><td>&quot;Chicken&quot;</td><td>37.085596</td></tr><tr><td>&quot;Iron ore, cfr …</td><td>15.374231</td></tr><tr><td>&quot;Sorghum&quot;</td><td>4.430623</td></tr></tbody></table></div>"
            ]
          },
          "metadata": {},
          "execution_count": 5
        }
      ]
    },
    {
      "cell_type": "code",
      "source": [],
      "metadata": {
        "id": "JdUuh3ybDYCi"
      },
      "execution_count": null,
      "outputs": []
    }
  ]
}